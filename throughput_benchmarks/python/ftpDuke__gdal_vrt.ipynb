{
 "cells": [
  {
   "cell_type": "markdown",
   "metadata": {},
   "source": [
    "### Benchmarking SCINet GeoCDL Options\n",
    "\n",
    "This notebook is designed to benchmark the throughput from various data sources to the USDA ARS HPC systems. Much of the code and inspiration for these metrics comes from a similiar effort via the Pangeo ([see this link](http://gallery.pangeo.io/repos/earthcube2020/ec20_abernathey_etal/cloud_storage.html) or this [preprint](https://www.authorea.com/doi/full/10.22541/au.160443768.88917719/v1))\n",
    "\n",
    "This benchmark uses dask arrays and a dask distributed computing system to scale the number of workers fetching data from remote data repositories. To run a benchmark:\n",
    "1. Copy the `template.ipynb` file.\n",
    "2. Rename the file like:<br>\n",
    "  * DataSource__FileType.ipynb (Note the double _ characters)\n",
    "  * e.g. `template.ipynb` --> `aws__netcdf.ipynb`\n",
    "  * e.g. `template.ipynb` --> `DukeFTP__Gdal_tif.ipynb`\n",
    "3. Fill in the IO code in the \"blank\" section.\n",
    "4. Run the entire notebook.\n",
    "5. Confirm a file was written into the result folder."
   ]
  },
  {
   "cell_type": "code",
   "execution_count": 2,
   "metadata": {},
   "outputs": [],
   "source": [
    "import warnings\n",
    "warnings.filterwarnings('ignore')\n",
    "from utils import DevNullStore,DiagnosticTimer,total_nthreads,total_ncores,total_workers,get_chunksize\n",
    "import time, datetime, os, dask\n",
    "import pandas as pd\n",
    "import dask.array as da\n",
    "import hvplot.pandas\n",
    "from tqdm.notebook import tqdm\n",
    "from dask.distributed import LocalCluster,Client"
   ]
  },
  {
   "cell_type": "code",
   "execution_count": 3,
   "metadata": {},
   "outputs": [],
   "source": [
    "## This environment set to optimized reading COG files - see https://github.com/pangeo-data/cog-best-practices\n",
    "\n",
    "env = dict(GDAL_DISABLE_READDIR_ON_OPEN='EMPTY_DIR', \n",
    "           AWS_NO_SIGN_REQUEST='YES',\n",
    "           GDAL_MAX_RAW_BLOCK_CACHE_SIZE='200000000',\n",
    "           GDAL_SWATH_SIZE='200000000',\n",
    "           VSI_CURL_CACHE_SIZE='200000000')\n",
    "\n",
    "os.environ.update(env)"
   ]
  },
  {
   "cell_type": "code",
   "execution_count": 4,
   "metadata": {},
   "outputs": [
    {
     "data": {
      "text/html": [
       "<table style=\"border: 2px solid white;\">\n",
       "<tr>\n",
       "<td style=\"vertical-align: top; border: 0px solid white\">\n",
       "<h3 style=\"text-align: left;\">Client</h3>\n",
       "<ul style=\"text-align: left; list-style: none; margin: 0; padding: 0;\">\n",
       "  <li><b>Scheduler: </b>tcp://127.0.0.1:37309</li>\n",
       "  <li><b>Dashboard: </b><a href='https://localhost:8888/proxy/8787/status' target='_blank'>https://localhost:8888/proxy/8787/status</a></li>\n",
       "</ul>\n",
       "</td>\n",
       "<td style=\"vertical-align: top; border: 0px solid white\">\n",
       "<h3 style=\"text-align: left;\">Cluster</h3>\n",
       "<ul style=\"text-align: left; list-style:none; margin: 0; padding: 0;\">\n",
       "  <li><b>Workers: </b>6</li>\n",
       "  <li><b>Cores: </b>12</li>\n",
       "  <li><b>Memory: </b>26.70 GB</li>\n",
       "</ul>\n",
       "</td>\n",
       "</tr>\n",
       "</table>"
      ],
      "text/plain": [
       "<Client: 'tcp://127.0.0.1:37309' processes=6 threads=12, memory=26.70 GB>"
      ]
     },
     "execution_count": 4,
     "metadata": {},
     "output_type": "execute_result"
    }
   ],
   "source": [
    "dask.config.set({'distributed.dashboard.link':'https://localhost:8888/proxy/8787/status'})\n",
    "cluster = LocalCluster(threads_per_worker=2)\n",
    "client = Client(cluster)\n",
    "client"
   ]
  },
  {
   "cell_type": "markdown",
   "metadata": {},
   "source": [
    "### Dataset Specific IO Code\n",
    "\n",
    "Load data into a dask array named `data`. Ideally subset the data is it has ~100MB chunks and totals ~25 GBs. An example approach is:\n",
    "```python\n",
    "ds = xr.open_rasterio('http://hydrology.cee.duke.edu/POLARIS/PROPERTIES/v1.0/vrt/clay_mode_0_5.vrt',\n",
    "                      chunks='auto')\n",
    "data = ds.isel(x=slice(0,5400*5),y=slice(0,5400*5)).data\n",
    "```\n",
    "\n",
    "Define the following metadata:\n",
    "\n",
    "**cloud_source** = Where is the data being housed <br>\n",
    "**format** = Format of the data. For gdal drivers use gdal_drivername (aka gdal_tif). For other sources, use the file formatt suffix (aka zarr).<br>\n",
    "**system** = The system (Ceres, Atlas, AWS, GCP, AZURE, etc...)\n",
    "\n",
    "Example:\n",
    "```python\n",
    "cloud_source = 'aws_nasa_daac'\n",
    "d_format = 'gdal_cog'\n",
    "system = 'Ceres'\n",
    "```"
   ]
  },
  {
   "cell_type": "code",
   "execution_count": 5,
   "metadata": {},
   "outputs": [
    {
     "data": {
      "text/html": [
       "<table>\n",
       "<tr>\n",
       "<td>\n",
       "<table>\n",
       "  <thead>\n",
       "    <tr><td> </td><th> Array </th><th> Chunk </th></tr>\n",
       "  </thead>\n",
       "  <tbody>\n",
       "    <tr><th> Bytes </th><td> 2.87 GB </td> <td> 114.70 MB </td></tr>\n",
       "    <tr><th> Shape </th><td> (1, 26550, 27000) </td> <td> (1, 5400, 5310) </td></tr>\n",
       "    <tr><th> Count </th><td> 751 Tasks </td><td> 30 Chunks </td></tr>\n",
       "    <tr><th> Type </th><td> float32 </td><td> numpy.ndarray </td></tr>\n",
       "  </tbody>\n",
       "</table>\n",
       "</td>\n",
       "<td>\n",
       "<svg width=\"194\" height=\"182\" style=\"stroke:rgb(0,0,0);stroke-width:1\" >\n",
       "\n",
       "  <!-- Horizontal lines -->\n",
       "  <line x1=\"10\" y1=\"0\" x2=\"24\" y2=\"14\" style=\"stroke-width:2\" />\n",
       "  <line x1=\"10\" y1=\"24\" x2=\"24\" y2=\"38\" />\n",
       "  <line x1=\"10\" y1=\"48\" x2=\"24\" y2=\"62\" />\n",
       "  <line x1=\"10\" y1=\"72\" x2=\"24\" y2=\"86\" />\n",
       "  <line x1=\"10\" y1=\"96\" x2=\"24\" y2=\"110\" />\n",
       "  <line x1=\"10\" y1=\"118\" x2=\"24\" y2=\"132\" style=\"stroke-width:2\" />\n",
       "\n",
       "  <!-- Vertical lines -->\n",
       "  <line x1=\"10\" y1=\"0\" x2=\"10\" y2=\"118\" style=\"stroke-width:2\" />\n",
       "  <line x1=\"24\" y1=\"14\" x2=\"24\" y2=\"132\" style=\"stroke-width:2\" />\n",
       "\n",
       "  <!-- Colored Rectangle -->\n",
       "  <polygon points=\"10.0,0.0 24.9485979497544,14.948597949754403 24.9485979497544,132.9485979497544 10.0,118.0\" style=\"fill:#ECB172A0;stroke-width:0\"/>\n",
       "\n",
       "  <!-- Horizontal lines -->\n",
       "  <line x1=\"10\" y1=\"0\" x2=\"130\" y2=\"0\" style=\"stroke-width:2\" />\n",
       "  <line x1=\"24\" y1=\"14\" x2=\"144\" y2=\"14\" style=\"stroke-width:2\" />\n",
       "\n",
       "  <!-- Vertical lines -->\n",
       "  <line x1=\"10\" y1=\"0\" x2=\"24\" y2=\"14\" style=\"stroke-width:2\" />\n",
       "  <line x1=\"33\" y1=\"0\" x2=\"48\" y2=\"14\" />\n",
       "  <line x1=\"57\" y1=\"0\" x2=\"72\" y2=\"14\" />\n",
       "  <line x1=\"80\" y1=\"0\" x2=\"95\" y2=\"14\" />\n",
       "  <line x1=\"104\" y1=\"0\" x2=\"119\" y2=\"14\" />\n",
       "  <line x1=\"128\" y1=\"0\" x2=\"142\" y2=\"14\" />\n",
       "  <line x1=\"130\" y1=\"0\" x2=\"144\" y2=\"14\" style=\"stroke-width:2\" />\n",
       "\n",
       "  <!-- Colored Rectangle -->\n",
       "  <polygon points=\"10.0,0.0 130.0,0.0 144.9485979497544,14.948597949754403 24.9485979497544,14.948597949754403\" style=\"fill:#ECB172A0;stroke-width:0\"/>\n",
       "\n",
       "  <!-- Horizontal lines -->\n",
       "  <line x1=\"24\" y1=\"14\" x2=\"144\" y2=\"14\" style=\"stroke-width:2\" />\n",
       "  <line x1=\"24\" y1=\"38\" x2=\"144\" y2=\"38\" />\n",
       "  <line x1=\"24\" y1=\"62\" x2=\"144\" y2=\"62\" />\n",
       "  <line x1=\"24\" y1=\"86\" x2=\"144\" y2=\"86\" />\n",
       "  <line x1=\"24\" y1=\"110\" x2=\"144\" y2=\"110\" />\n",
       "  <line x1=\"24\" y1=\"132\" x2=\"144\" y2=\"132\" style=\"stroke-width:2\" />\n",
       "\n",
       "  <!-- Vertical lines -->\n",
       "  <line x1=\"24\" y1=\"14\" x2=\"24\" y2=\"132\" style=\"stroke-width:2\" />\n",
       "  <line x1=\"48\" y1=\"14\" x2=\"48\" y2=\"132\" />\n",
       "  <line x1=\"72\" y1=\"14\" x2=\"72\" y2=\"132\" />\n",
       "  <line x1=\"95\" y1=\"14\" x2=\"95\" y2=\"132\" />\n",
       "  <line x1=\"119\" y1=\"14\" x2=\"119\" y2=\"132\" />\n",
       "  <line x1=\"142\" y1=\"14\" x2=\"142\" y2=\"132\" />\n",
       "  <line x1=\"144\" y1=\"14\" x2=\"144\" y2=\"132\" style=\"stroke-width:2\" />\n",
       "\n",
       "  <!-- Colored Rectangle -->\n",
       "  <polygon points=\"24.9485979497544,14.948597949754403 144.9485979497544,14.948597949754403 144.9485979497544,132.9485979497544 24.9485979497544,132.9485979497544\" style=\"fill:#ECB172A0;stroke-width:0\"/>\n",
       "\n",
       "  <!-- Text -->\n",
       "  <text x=\"84.948598\" y=\"152.948598\" font-size=\"1.0rem\" font-weight=\"100\" text-anchor=\"middle\" >27000</text>\n",
       "  <text x=\"164.948598\" y=\"73.948598\" font-size=\"1.0rem\" font-weight=\"100\" text-anchor=\"middle\" transform=\"rotate(-90,164.948598,73.948598)\">26550</text>\n",
       "  <text x=\"7.474299\" y=\"145.474299\" font-size=\"1.0rem\" font-weight=\"100\" text-anchor=\"middle\" transform=\"rotate(45,7.474299,145.474299)\">1</text>\n",
       "</svg>\n",
       "</td>\n",
       "</tr>\n",
       "</table>"
      ],
      "text/plain": [
       "dask.array<getitem, shape=(1, 26550, 27000), dtype=float32, chunksize=(1, 5400, 5310), chunktype=numpy.ndarray>"
      ]
     },
     "execution_count": 5,
     "metadata": {},
     "output_type": "execute_result"
    }
   ],
   "source": [
    "### ADD CODE BELOW ###\n",
    "import xarray as xr\n",
    "ds = xr.open_rasterio('http://hydrology.cee.duke.edu/POLARIS/PROPERTIES/v1.0/vrt/clay_mode_0_5.vrt',chunks='auto')\n",
    "data = ds.isel(x=slice(0,5400*5),y=slice(0,5310*5)).data\n",
    "\n",
    "d_format = 'gdal_vrt'\n",
    "cloud_source = 'ftp_duke'\n",
    "system = 'Ceres'\n",
    "data"
   ]
  },
  {
   "cell_type": "markdown",
   "metadata": {},
   "source": [
    "### Run Diagnostics on Throughput"
   ]
  },
  {
   "cell_type": "code",
   "execution_count": 6,
   "metadata": {},
   "outputs": [
    {
     "data": {
      "application/vnd.jupyter.widget-view+json": {
       "model_id": "839cec80e9ec428ba7d15fac01039abe",
       "version_major": 2,
       "version_minor": 0
      },
      "text/plain": [
       "HBox(children=(HTML(value=''), FloatProgress(value=0.0, max=3.0), HTML(value='')))"
      ]
     },
     "metadata": {},
     "output_type": "display_data"
    },
    {
     "name": "stderr",
     "output_type": "stream",
     "text": [
      "distributed.nanny - WARNING - Restarting worker\n",
      "distributed.nanny - WARNING - Restarting worker\n",
      "distributed.nanny - WARNING - Restarting worker\n"
     ]
    },
    {
     "name": "stdout",
     "output_type": "stream",
     "text": [
      "\n"
     ]
    }
   ],
   "source": [
    "diag_timer = DiagnosticTimer()\n",
    "devnull = DevNullStore()\n",
    "\n",
    "chunksize = get_chunksize(data)\n",
    "totalsize = data.nbytes*1e-9\n",
    "\n",
    "diag_kwargs = dict(nbytes=data.nbytes,\n",
    "                   chunksize=chunksize,\n",
    "                   cloud_source=cloud_source,\n",
    "                   system=system,\n",
    "                   format=d_format)\n",
    "\n",
    "for nworkers in tqdm([2,4,6]):\n",
    "    client.restart()\n",
    "    cluster.scale(nworkers)\n",
    "    time.sleep(10)\n",
    "    client.wait_for_workers(nworkers)\n",
    "    with diag_timer.time(nthreads=total_nthreads(client),\n",
    "                         ncores=total_ncores(client),\n",
    "                         nworkers=total_workers(client),\n",
    "                         **diag_kwargs):\n",
    "\n",
    "        future = da.store(data, devnull, lock=False, compute=False)\n",
    "        dask.compute(future, retries=5)\n",
    "df = diag_timer.dataframe()\n",
    "df['throughput_MBps'] = df.nbytes/1e6/df.runtime"
   ]
  },
  {
   "cell_type": "markdown",
   "metadata": {},
   "source": [
    "### Visualize and save the results"
   ]
  },
  {
   "cell_type": "code",
   "execution_count": 8,
   "metadata": {},
   "outputs": [
    {
     "data": {},
     "metadata": {},
     "output_type": "display_data"
    },
    {
     "data": {
      "application/vnd.holoviews_exec.v0+json": "",
      "text/html": [
       "<div id='3354'>\n",
       "\n",
       "\n",
       "\n",
       "\n",
       "\n",
       "  <div class=\"bk-root\" id=\"5bba4a21-555a-4482-a03e-c1ae3129b8de\" data-root-id=\"3354\"></div>\n",
       "</div>\n",
       "<script type=\"application/javascript\">(function(root) {\n",
       "  function embed_document(root) {\n",
       "    var docs_json = {\"2b212d99-9bdc-4149-8d09-c582e5e23054\":{\"roots\":{\"references\":[{\"attributes\":{\"end\":6.0,\"reset_end\":6.0,\"reset_start\":2.0,\"start\":2.0,\"tags\":[[[\"nworkers\",\"nworkers\",null]]]},\"id\":\"3356\",\"type\":\"Range1d\"},{\"attributes\":{},\"id\":\"3395\",\"type\":\"Selection\"},{\"attributes\":{\"margin\":[5,5,5,5],\"name\":\"HSpacer01674\",\"sizing_mode\":\"stretch_width\"},\"id\":\"3355\",\"type\":\"Spacer\"},{\"attributes\":{},\"id\":\"3392\",\"type\":\"BasicTickFormatter\"},{\"attributes\":{\"end\":50.21396090029119,\"reset_end\":50.21396090029119,\"reset_start\":37.60666464480587,\"start\":37.60666464480587,\"tags\":[[[\"throughput_MBps\",\"throughput_MBps\",null]]]},\"id\":\"3357\",\"type\":\"Range1d\"},{\"attributes\":{\"line_color\":\"#1f77b3\",\"line_width\":2,\"x\":{\"field\":\"nworkers\"},\"y\":{\"field\":\"throughput_MBps\"}},\"id\":\"3397\",\"type\":\"Line\"},{\"attributes\":{\"source\":{\"id\":\"3402\"}},\"id\":\"3409\",\"type\":\"CDSView\"},{\"attributes\":{\"fill_alpha\":{\"value\":0.2},\"fill_color\":{\"value\":\"#1f77b3\"},\"line_alpha\":{\"value\":0.2},\"line_color\":{\"value\":\"#1f77b3\"},\"size\":{\"units\":\"screen\",\"value\":7.0710678118654755},\"x\":{\"field\":\"nworkers\"},\"y\":{\"field\":\"throughput_MBps\"}},\"id\":\"3407\",\"type\":\"Scatter\"},{\"attributes\":{\"data_source\":{\"id\":\"3402\"},\"glyph\":{\"id\":\"3405\"},\"hover_glyph\":null,\"muted_glyph\":{\"id\":\"3407\"},\"nonselection_glyph\":{\"id\":\"3406\"},\"selection_glyph\":null,\"view\":{\"id\":\"3409\"}},\"id\":\"3408\",\"type\":\"GlyphRenderer\"},{\"attributes\":{\"bottom_units\":\"screen\",\"fill_alpha\":0.5,\"fill_color\":\"lightgrey\",\"left_units\":\"screen\",\"level\":\"overlay\",\"line_alpha\":1.0,\"line_color\":\"black\",\"line_dash\":[4,4],\"line_width\":2,\"right_units\":\"screen\",\"top_units\":\"screen\"},\"id\":\"3382\",\"type\":\"BoxAnnotation\"},{\"attributes\":{\"text\":\"System: Ceres    |    Data Source: ftp_duke    |    File Format: gdal_vrt\",\"text_color\":{\"value\":\"black\"},\"text_font_size\":{\"value\":\"12pt\"}},\"id\":\"3361\",\"type\":\"Title\"},{\"attributes\":{\"source\":{\"id\":\"3394\"}},\"id\":\"3401\",\"type\":\"CDSView\"},{\"attributes\":{\"line_alpha\":0.1,\"line_color\":\"#1f77b3\",\"line_width\":2,\"x\":{\"field\":\"nworkers\"},\"y\":{\"field\":\"throughput_MBps\"}},\"id\":\"3398\",\"type\":\"Line\"},{\"attributes\":{},\"id\":\"3417\",\"type\":\"UnionRenderers\"},{\"attributes\":{\"callback\":null,\"renderers\":[{\"id\":\"3400\"},{\"id\":\"3408\"}],\"tags\":[\"hv_created\"],\"tooltips\":[[\"nworkers\",\"@{nworkers}\"],[\"throughput_MBps\",\"@{throughput_MBps}\"]]},\"id\":\"3358\",\"type\":\"HoverTool\"},{\"attributes\":{},\"id\":\"3390\",\"type\":\"BasicTickFormatter\"},{\"attributes\":{\"children\":[{\"id\":\"3355\"},{\"id\":\"3360\"},{\"id\":\"3500\"}],\"margin\":[0,0,0,0],\"name\":\"Row01670\",\"tags\":[\"embedded\"]},\"id\":\"3354\",\"type\":\"Row\"},{\"attributes\":{\"below\":[{\"id\":\"3369\"}],\"center\":[{\"id\":\"3372\"},{\"id\":\"3376\"}],\"left\":[{\"id\":\"3373\"}],\"margin\":[5,5,5,5],\"min_border_bottom\":10,\"min_border_left\":10,\"min_border_right\":10,\"min_border_top\":10,\"plot_height\":300,\"plot_width\":700,\"renderers\":[{\"id\":\"3400\"},{\"id\":\"3408\"}],\"sizing_mode\":\"fixed\",\"title\":{\"id\":\"3361\"},\"toolbar\":{\"id\":\"3383\"},\"x_range\":{\"id\":\"3356\"},\"x_scale\":{\"id\":\"3365\"},\"y_range\":{\"id\":\"3357\"},\"y_scale\":{\"id\":\"3367\"}},\"id\":\"3360\",\"subtype\":\"Figure\",\"type\":\"Plot\"},{\"attributes\":{},\"id\":\"3365\",\"type\":\"LinearScale\"},{\"attributes\":{\"line_alpha\":0.2,\"line_color\":\"#1f77b3\",\"line_width\":2,\"x\":{\"field\":\"nworkers\"},\"y\":{\"field\":\"throughput_MBps\"}},\"id\":\"3399\",\"type\":\"Line\"},{\"attributes\":{\"axis_label\":\"nworkers\",\"bounds\":\"auto\",\"formatter\":{\"id\":\"3390\"},\"major_label_orientation\":\"horizontal\",\"ticker\":{\"id\":\"3370\"}},\"id\":\"3369\",\"type\":\"LinearAxis\"},{\"attributes\":{\"data_source\":{\"id\":\"3394\"},\"glyph\":{\"id\":\"3397\"},\"hover_glyph\":null,\"muted_glyph\":{\"id\":\"3399\"},\"nonselection_glyph\":{\"id\":\"3398\"},\"selection_glyph\":null,\"view\":{\"id\":\"3401\"}},\"id\":\"3400\",\"type\":\"GlyphRenderer\"},{\"attributes\":{},\"id\":\"3367\",\"type\":\"LinearScale\"},{\"attributes\":{\"margin\":[5,5,5,5],\"name\":\"HSpacer01675\",\"sizing_mode\":\"stretch_width\"},\"id\":\"3500\",\"type\":\"Spacer\"},{\"attributes\":{\"fill_alpha\":{\"value\":0.1},\"fill_color\":{\"value\":\"#1f77b3\"},\"line_alpha\":{\"value\":0.1},\"line_color\":{\"value\":\"#1f77b3\"},\"size\":{\"units\":\"screen\",\"value\":7.0710678118654755},\"x\":{\"field\":\"nworkers\"},\"y\":{\"field\":\"throughput_MBps\"}},\"id\":\"3406\",\"type\":\"Scatter\"},{\"attributes\":{},\"id\":\"3378\",\"type\":\"PanTool\"},{\"attributes\":{},\"id\":\"3403\",\"type\":\"Selection\"},{\"attributes\":{},\"id\":\"3419\",\"type\":\"UnionRenderers\"},{\"attributes\":{\"axis\":{\"id\":\"3373\"},\"dimension\":1,\"grid_line_color\":null,\"ticker\":null},\"id\":\"3376\",\"type\":\"Grid\"},{\"attributes\":{\"axis\":{\"id\":\"3369\"},\"grid_line_color\":null,\"ticker\":null},\"id\":\"3372\",\"type\":\"Grid\"},{\"attributes\":{},\"id\":\"3379\",\"type\":\"WheelZoomTool\"},{\"attributes\":{\"fill_color\":{\"value\":\"#1f77b3\"},\"line_color\":{\"value\":\"#1f77b3\"},\"size\":{\"units\":\"screen\",\"value\":7.0710678118654755},\"x\":{\"field\":\"nworkers\"},\"y\":{\"field\":\"throughput_MBps\"}},\"id\":\"3405\",\"type\":\"Scatter\"},{\"attributes\":{\"axis_label\":\"throughput_MBps\",\"bounds\":\"auto\",\"formatter\":{\"id\":\"3392\"},\"major_label_orientation\":\"horizontal\",\"ticker\":{\"id\":\"3374\"}},\"id\":\"3373\",\"type\":\"LinearAxis\"},{\"attributes\":{},\"id\":\"3374\",\"type\":\"BasicTicker\"},{\"attributes\":{\"data\":{\"nworkers\":[2,4,6],\"throughput_MBps\":{\"__ndarray__\":\"Hbi+giFUQ0ABgkS/6JRIQE5jCGzVrEZA\",\"dtype\":\"float64\",\"order\":\"little\",\"shape\":[3]}},\"selected\":{\"id\":\"3403\"},\"selection_policy\":{\"id\":\"3419\"}},\"id\":\"3402\",\"type\":\"ColumnDataSource\"},{\"attributes\":{},\"id\":\"3370\",\"type\":\"BasicTicker\"},{\"attributes\":{},\"id\":\"3381\",\"type\":\"ResetTool\"},{\"attributes\":{},\"id\":\"3377\",\"type\":\"SaveTool\"},{\"attributes\":{\"data\":{\"nworkers\":[2,4,6],\"throughput_MBps\":{\"__ndarray__\":\"Hbi+giFUQ0ABgkS/6JRIQE5jCGzVrEZA\",\"dtype\":\"float64\",\"order\":\"little\",\"shape\":[3]}},\"selected\":{\"id\":\"3395\"},\"selection_policy\":{\"id\":\"3417\"}},\"id\":\"3394\",\"type\":\"ColumnDataSource\"},{\"attributes\":{\"active_drag\":\"auto\",\"active_inspect\":\"auto\",\"active_multi\":null,\"active_scroll\":\"auto\",\"active_tap\":\"auto\",\"tools\":[{\"id\":\"3358\"},{\"id\":\"3377\"},{\"id\":\"3378\"},{\"id\":\"3379\"},{\"id\":\"3380\"},{\"id\":\"3381\"}]},\"id\":\"3383\",\"type\":\"Toolbar\"},{\"attributes\":{\"overlay\":{\"id\":\"3382\"}},\"id\":\"3380\",\"type\":\"BoxZoomTool\"}],\"root_ids\":[\"3354\"]},\"title\":\"Bokeh Application\",\"version\":\"2.2.3\"}};\n",
       "    var render_items = [{\"docid\":\"2b212d99-9bdc-4149-8d09-c582e5e23054\",\"root_ids\":[\"3354\"],\"roots\":{\"3354\":\"5bba4a21-555a-4482-a03e-c1ae3129b8de\"}}];\n",
       "    root.Bokeh.embed.embed_items_notebook(docs_json, render_items);\n",
       "  }\n",
       "  if (root.Bokeh !== undefined && root.Bokeh.Panel !== undefined) {\n",
       "    embed_document(root);\n",
       "  } else {\n",
       "    var attempts = 0;\n",
       "    var timer = setInterval(function(root) {\n",
       "      if (root.Bokeh !== undefined && root.Bokeh.Panel !== undefined) {\n",
       "        clearInterval(timer);\n",
       "        embed_document(root);\n",
       "      } else if (document.readyState == \"complete\") {\n",
       "        attempts++;\n",
       "        if (attempts > 100) {\n",
       "          clearInterval(timer);\n",
       "          console.log(\"Bokeh: ERROR: Unable to run BokehJS code because BokehJS library is missing\");\n",
       "        }\n",
       "      }\n",
       "    }, 10, root)\n",
       "  }\n",
       "})(window);</script>"
      ],
      "text/plain": [
       ":Overlay\n",
       "   .Curve.I   :Curve   [nworkers]   (throughput_MBps)\n",
       "   .Scatter.I :Scatter   [nworkers]   (throughput_MBps)"
      ]
     },
     "execution_count": 8,
     "metadata": {
      "application/vnd.holoviews_exec.v0+json": {
       "id": "3354"
      }
     },
     "output_type": "execute_result"
    }
   ],
   "source": [
    "#Save results\n",
    "df.to_csv('../results/Python__'+system+'__'+cloud_source+'__'+d_format+'__'+datetime.datetime.now().strftime(\"%Y%m%d_%H%M\")+'.csv',index=False)\n",
    "\n",
    "#Plot Throughput v. nworkers\n",
    "pl = df.hvplot(x='nworkers',\n",
    "               y='throughput_MBps',\n",
    "               kind='line')*\\\n",
    "     df.hvplot(x='nworkers',\n",
    "               y='throughput_MBps',\n",
    "               s=50,\n",
    "               kind='scatter').opts(title='System: '+system+'    |    Data Source: '+cloud_source+'    |    File Format: '+d_format)\n",
    "pl"
   ]
  },
  {
   "cell_type": "code",
   "execution_count": null,
   "metadata": {},
   "outputs": [],
   "source": []
  }
 ],
 "metadata": {
  "kernelspec": {
   "display_name": "Python [conda env:py_geo]",
   "language": "python",
   "name": "conda-env-py_geo-py"
  },
  "language_info": {
   "codemirror_mode": {
    "name": "ipython",
    "version": 3
   },
   "file_extension": ".py",
   "mimetype": "text/x-python",
   "name": "python",
   "nbconvert_exporter": "python",
   "pygments_lexer": "ipython3",
   "version": "3.8.6"
  }
 },
 "nbformat": 4,
 "nbformat_minor": 4
}
